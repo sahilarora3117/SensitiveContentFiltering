{
 "cells": [
  {
   "cell_type": "code",
   "execution_count": 1,
   "id": "bf9df0b0",
   "metadata": {},
   "outputs": [],
   "source": [
    "import tensorflow as tf\n",
    "import json\n",
    "import os\n",
    "import random\n",
    "im\n",
    "from tensorflow.keras.preprocessing.text import Tokenizer\n",
    "from tensorflow.keras.preprocessing.sequence import pad_sequences\n",
    "\n",
    "dataset_folder = \"./text_dataset/\"\n",
    "sensitive_datafile = \"SensitiveDataset.json\"\n",
    "nonsensitive_datafile = \"NonSensitiveDataset.json\""
   ]
  },
  {
   "cell_type": "code",
   "execution_count": 2,
   "id": "53fe76f7",
   "metadata": {},
   "outputs": [],
   "source": [
    "vocab_size = 3000\n",
    "embedding_dim = 32\n",
    "max_length = 60\n",
    "truncation_type='post'\n",
    "padding_type='post'\n",
    "oov_tok = \"<OOV>\"\n",
    "training_size = 20000"
   ]
  },
  {
   "cell_type": "code",
   "execution_count": 3,
   "id": "42966eb1",
   "metadata": {},
   "outputs": [
    {
     "name": "stdout",
     "output_type": "stream",
     "text": [
      "Dataset Size:  31576\n"
     ]
    }
   ],
   "source": [
    "dataList = []\n",
    "sentences = []\n",
    "labels = []\n",
    "# Stopwords should be removed or excluded from the given text so that more \n",
    "# focus can be given to those words which define the meaning of the text.\n",
    "stopwords = [ \"a\", \"about\", \"above\", \"after\", \"again\", \"against\", \"all\", \"am\", \"an\", \"and\", \"any\", \"are\", \"as\", \"at\", \"be\", \"because\", \"been\", \"before\", \"being\", \"below\", \"between\", \"both\", \"but\", \"by\", \"could\", \"did\", \"do\", \"does\", \"doing\", \"down\", \"during\", \"each\", \"few\", \"for\", \"from\", \"further\", \"had\", \"has\", \"have\", \"having\", \"he\", \"he'd\", \"he'll\", \"he's\", \"her\", \"here\", \"here's\", \"hers\", \"herself\", \"him\", \"himself\", \"his\", \"how\", \"how's\", \"i\", \"i'd\", \"i'll\", \"i'm\", \"i've\", \"if\", \"in\", \"into\", \"is\", \"it\", \"it's\", \"its\", \"itself\", \"let's\", \"me\", \"more\", \"most\", \"my\", \"myself\", \"nor\", \"of\", \"on\", \"once\", \"only\", \"or\", \"other\", \"ought\", \"our\", \"ours\", \"ourselves\", \"out\", \"over\", \"own\", \"same\", \"she\", \"she'd\", \"she'll\", \"she's\", \"should\", \"so\", \"some\", \"such\", \"than\", \"that\", \"that's\", \"the\", \"their\", \"theirs\", \"them\", \"themselves\", \"then\", \"there\", \"there's\", \"these\", \"they\", \"they'd\", \"they'll\", \"they're\", \"they've\", \"this\", \"those\", \"through\", \"to\", \"too\", \"under\", \"until\", \"up\", \"very\", \"was\", \"we\", \"we'd\", \"we'll\", \"we're\", \"we've\", \"were\", \"what\", \"what's\", \"when\", \"when's\", \"where\", \"where's\", \"which\", \"while\", \"who\", \"who's\", \"whom\", \"why\", \"why's\", \"with\", \"would\", \"you\", \"you'd\", \"you'll\", \"you're\", \"you've\", \"your\", \"yours\", \"yourself\", \"yourselves\" ]\n",
    "\n",
    "def loadDataset(filename):\n",
    "  with open(dataset_folder + filename, 'r') as f:\n",
    "      datastore = json.load(f)\n",
    "  for item in datastore:\n",
    "    sentence = item['data']\n",
    "    label = item['is_sensitive']\n",
    "    for word in stopwords: #Remove stop words in sentence\n",
    "      token = \" \" + word + \" \"\n",
    "      sentence = sentence.replace(token, \" \")\n",
    "    dataList.append([sentence, label])\n",
    "\n",
    "# Loading both sensitive and non-sensitive dataset\n",
    "loadDataset(sensitive_datafile)\n",
    "loadDataset(nonsensitive_datafile)\n",
    "\n",
    "# Shuffling the dataset randomly\n",
    "random.shuffle(dataList)\n",
    "\n",
    "# Dataset size: 31500 (approx)\n",
    "print(\"Dataset Size: \", len(dataList))\n",
    "\n",
    "# Dataset has both sentences and labels\n",
    "for item in dataList:\n",
    "  sentences.append(item[0])\n",
    "  labels.append(item[1])\n",
    "\n",
    "# Splitting up the total dataset\n",
    "# Training size = 20000\n",
    "# Validation size = 11500 (approx)\n",
    "training_sentences = sentences[0:training_size]\n",
    "validation_sentences = sentences[training_size:]\n",
    "training_labels = labels[0:training_size]\n",
    "validation_labels = labels[training_size:]\n",
    "\n",
    "# print(\"Training Dataset Size: \", len(training_sentences))\n",
    "# print(\"Sample Training Data:\", training_sentences[0])\n",
    "# print(\"Validation Dataset Size: \", len(validation_sentences))\n",
    "# print(\"Sample Validation Data:\", validation_sentences[0])"
   ]
  },
  {
   "cell_type": "code",
   "execution_count": 4,
   "id": "c9a3bdd4",
   "metadata": {},
   "outputs": [
    {
     "name": "stdout",
     "output_type": "stream",
     "text": [
      "Size of word index: 102949\n",
      "Saving the word index as JSON\n"
     ]
    },
    {
     "ename": "NameError",
     "evalue": "name 'io' is not defined",
     "output_type": "error",
     "traceback": [
      "\u001b[0;31m---------------------------------------------------------------------------\u001b[0m",
      "\u001b[0;31mNameError\u001b[0m                                 Traceback (most recent call last)",
      "\u001b[0;32m<ipython-input-4-e7dfedceac4c>\u001b[0m in \u001b[0;36m<module>\u001b[0;34m\u001b[0m\n\u001b[1;32m     17\u001b[0m \u001b[0;34m\u001b[0m\u001b[0m\n\u001b[1;32m     18\u001b[0m \u001b[0mtokenizer_json\u001b[0m \u001b[0;34m=\u001b[0m \u001b[0mtokenizer\u001b[0m\u001b[0;34m.\u001b[0m\u001b[0mto_json\u001b[0m\u001b[0;34m(\u001b[0m\u001b[0;34m)\u001b[0m\u001b[0;34m\u001b[0m\u001b[0;34m\u001b[0m\u001b[0m\n\u001b[0;32m---> 19\u001b[0;31m \u001b[0;32mwith\u001b[0m \u001b[0mio\u001b[0m\u001b[0;34m.\u001b[0m\u001b[0mopen\u001b[0m\u001b[0;34m(\u001b[0m\u001b[0;34m'tokenizer.json'\u001b[0m\u001b[0;34m,\u001b[0m \u001b[0;34m'w'\u001b[0m\u001b[0;34m,\u001b[0m \u001b[0mencoding\u001b[0m\u001b[0;34m=\u001b[0m\u001b[0;34m'utf-8'\u001b[0m\u001b[0;34m)\u001b[0m \u001b[0;32mas\u001b[0m \u001b[0mf\u001b[0m\u001b[0;34m:\u001b[0m\u001b[0;34m\u001b[0m\u001b[0;34m\u001b[0m\u001b[0m\n\u001b[0m\u001b[1;32m     20\u001b[0m     \u001b[0mf\u001b[0m\u001b[0;34m.\u001b[0m\u001b[0mwrite\u001b[0m\u001b[0;34m(\u001b[0m\u001b[0mjson\u001b[0m\u001b[0;34m.\u001b[0m\u001b[0mdumps\u001b[0m\u001b[0;34m(\u001b[0m\u001b[0mtokenizer_json\u001b[0m\u001b[0;34m,\u001b[0m \u001b[0mensure_ascii\u001b[0m\u001b[0;34m=\u001b[0m\u001b[0;32mFalse\u001b[0m\u001b[0;34m)\u001b[0m\u001b[0;34m)\u001b[0m\u001b[0;34m\u001b[0m\u001b[0;34m\u001b[0m\u001b[0m\n\u001b[1;32m     21\u001b[0m \u001b[0;31m# Transforms each word in sentences to a sequence of integers based on the word_index\u001b[0m\u001b[0;34m\u001b[0m\u001b[0;34m\u001b[0m\u001b[0;34m\u001b[0m\u001b[0m\n",
      "\u001b[0;31mNameError\u001b[0m: name 'io' is not defined"
     ]
    }
   ],
   "source": [
    "# Tokenizer takes the num_words (here vocab_size = 3000) maximum occuring unique words from the dataset.\n",
    "# Anything out of these words will be treated as Out of Vocabulary(<oov>)\n",
    "# It strips the punctutations and removes upper-case letters.\n",
    "tokenizer = Tokenizer(num_words=vocab_size, oov_token=oov_tok)\n",
    "\n",
    "# Apply the tokenizer on training sentences and generate the word index\n",
    "# Eg: word_index[\"the\"] = 1; word_index[\"cat\"] = 2; etc.\n",
    "tokenizer.fit_on_texts(training_sentences)\n",
    "\n",
    "# Save the word index (Used for deploying in web application)\n",
    "word_index = tokenizer.word_index\n",
    "print(\"Size of word index:\", len(word_index))\n",
    "\n",
    "with open(\"word_index.json\", \"w\") as outfile:  \n",
    "    json.dump(word_index, outfile)\n",
    "    print(\"Saving the word index as JSON\")\n",
    "\n",
    "tokenizer_json = tokenizer.to_json()\n",
    "with io.open('tokenizer.json', 'w', encoding='utf-8') as f:\n",
    "    f.write(json.dumps(tokenizer_json, ensure_ascii=False))\n",
    "# Transforms each word in sentences to a sequence of integers based on the word_index\n",
    "training_sequences = tokenizer.texts_to_sequences(training_sentences)\n",
    "# To feed the text into neural network - sentences must be of the same length. Hence we'll be using padding.\n",
    "# If the sentences are smaller than the maxlen, then we'll pad (Here, we are using post padding)\n",
    "# If the sentences are larger than the maxlen, then we'll truncate (Here, we are using post truncation)\n",
    "training_padded = pad_sequences(training_sequences, maxlen=max_length, padding=padding_type, truncating=truncation_type)\n",
    "\n",
    "# Apply the same for validation data\n",
    "validation_sequences = tokenizer.texts_to_sequences(validation_sentences)\n",
    "validation_padded = pad_sequences(validation_sequences, maxlen=max_length, padding=padding_type, truncating=truncation_type)"
   ]
  },
  {
   "cell_type": "code",
   "execution_count": null,
   "id": "127a3e0e",
   "metadata": {},
   "outputs": [],
   "source": [
    "import numpy as np\n",
    "training_padded = np.array(training_padded)\n",
    "training_labels = np.array(training_labels)\n",
    "validation_padded = np.array(validation_padded)\n",
    "validation_labels = np.array(validation_labels)"
   ]
  },
  {
   "cell_type": "code",
   "execution_count": null,
   "id": "facc3eb2",
   "metadata": {},
   "outputs": [],
   "source": [
    "DESIRED_ACCURACY = 0.999\n",
    "class myCallback(tf.keras.callbacks.Callback):\n",
    "  def on_epoch_end(self, epoch, logs={}):\n",
    "    if logs.get('accuracy') > DESIRED_ACCURACY:\n",
    "      print(\"Reached 99.9% accuracy so cancelling training!\")\n",
    "      self.model.stop_training = True\n",
    "\n",
    "callbacks = myCallback()\n",
    "\n",
    "# Sequential - defines a SEQUENCE of layers in the neural network.\n",
    "model = tf.keras.Sequential([\n",
    "    # Embedding - Turns positive integers (indexes) into dense vectors of fixed size (here embedding_dim = 32).\n",
    "    tf.keras.layers.Embedding(vocab_size, embedding_dim, input_length=max_length),\n",
    "    # 1D convolution layer - filter size = 128, convolution window = 5, activation fn = ReLU\n",
    "    tf.keras.layers.Conv1D(64, 5, activation='relu'),\n",
    "    # Global average pooling operation (Flattening)\n",
    "    tf.keras.layers.GlobalAveragePooling1D(),\n",
    "    # Regular densely-connected Neural Network layer with ReLU activation function.\n",
    "    tf.keras.layers.Dense(24, activation='relu'),\n",
    "    # Regular densely-connected Neural Network layer with sigmoid activation function.\n",
    "    tf.keras.layers.Dense(1, activation='sigmoid')\n",
    "])\n",
    "\n",
    "# model.compile - Configures the model for training.\n",
    "model.compile(loss='binary_crossentropy',optimizer='adam',metrics=['accuracy'])\n",
    "# Adam -  optimization algorithm used instead of the classical stochastic gradient descent procedure to update network weights.\n",
    "\n",
    "# Display the summary of the model\n",
    "model.summary()"
   ]
  },
  {
   "cell_type": "code",
   "execution_count": null,
   "id": "ca673520",
   "metadata": {},
   "outputs": [],
   "source": [
    "num_epochs = 6\n",
    "\n",
    "# model.fit - Train the model for a fixed number of epochs\n",
    "history = model.fit(training_padded, \n",
    "                    training_labels, \n",
    "                    epochs=num_epochs, \n",
    "                    validation_data=(\n",
    "                        validation_padded, \n",
    "                        validation_labels), \n",
    "                    verbose=1)\n",
    "                    #callbacks=[callbacks])"
   ]
  },
  {
   "cell_type": "code",
   "execution_count": null,
   "id": "c7833b74",
   "metadata": {},
   "outputs": [],
   "source": [
    "import matplotlib.pyplot as plt\n",
    "\n",
    "# Plot the accuracy and loss functions\n",
    "def plot_graphs(history, string):\n",
    "  plt.plot(history.history[string])\n",
    "  plt.plot(history.history['val_'+string])\n",
    "  plt.xlabel(\"Epochs\")\n",
    "  plt.ylabel(string)\n",
    "  plt.legend([string, 'val_'+string])\n",
    "  plt.show()\n",
    "  \n",
    "plot_graphs(history, \"accuracy\")\n",
    "plot_graphs(history, \"loss\")"
   ]
  },
  {
   "cell_type": "code",
   "execution_count": null,
   "id": "f7d0c208",
   "metadata": {},
   "outputs": [],
   "source": [
    "import seaborn\n",
    "print('Confusion Matrix')\n",
    "y_predicted = model.predict(validation_padded)\n",
    "y_predicted_labels = y_predicted > 0.5\n",
    "\n",
    "size = np.size(y_predicted_labels)\n",
    "y_predicted_labels = y_predicted_labels.reshape(size, )\n",
    "\n",
    "for i in range (1, 5):\n",
    "  total = i * size // 4\n",
    "  cm = tf.math.confusion_matrix(labels=validation_labels[0:total],predictions=y_predicted_labels[0:total])\n",
    "\n",
    "  # Calculate accuracy\n",
    "  cm_np = cm.numpy()\n",
    "  conf_acc = (cm_np[0, 0] + cm_np[1, 1])/ np.sum(cm_np) * 100\n",
    "  print(\"Accuracy for\", str(total), \"Test Data = \", conf_acc)\n",
    "\n",
    "  # Plot the confusion matrix\n",
    "  plt.figure(figsize = (10,7))\n",
    "  seaborn.heatmap(cm, annot=True, fmt='d')\n",
    "  plt.title(\"Confusion Matrix for \" + str(total) + \" Test Data\")\n",
    "  plt.xlabel('Predicted')\n",
    "  plt.ylabel('Expected')"
   ]
  },
  {
   "cell_type": "code",
   "execution_count": null,
   "id": "5c7cbbf9",
   "metadata": {},
   "outputs": [],
   "source": [
    "model.save('model/text_model.h5')\n",
    "print(\"Saved the model successfully\")\n",
    "\n",
    "!apt-get -qq install virtualenv\n",
    "!virtualenv -p python3 venv\n",
    "!source venv/bin/activate\n",
    "!pip install -q tensorflowjs\n",
    "!tensorflowjs_converter --input_format=keras /model/text_model.h5 /text_model\n",
    "print(\"Model converted to JSON successfully\")"
   ]
  },
  {
   "cell_type": "code",
   "execution_count": null,
   "id": "7d23e55f",
   "metadata": {},
   "outputs": [],
   "source": [
    "sentence = [\"my gmail password is nice\", \"game of thrones season finale showing this sunday night\"]\n",
    "sequences = tokenizer.texts_to_sequences(sentence)\n",
    "padded = pad_sequences(sequences, maxlen=max_length, padding=padding_type, truncating=truncation_type)\n",
    "predictions = model.predict(padded)\n",
    "for i in range(len(predictions)):\n",
    "  print(predictions[i][0])\n",
    "  if predictions[i][0]>0.5:\n",
    "    print(\"Sensitive - \"+ sentence[i])\n",
    "  else:\n",
    "    print(\"Non-Sensitive - \" + sentence[i] )"
   ]
  },
  {
   "cell_type": "code",
   "execution_count": null,
   "id": "b8897704",
   "metadata": {},
   "outputs": [],
   "source": []
  },
  {
   "cell_type": "code",
   "execution_count": null,
   "id": "c704948b",
   "metadata": {},
   "outputs": [],
   "source": []
  }
 ],
 "metadata": {
  "kernelspec": {
   "display_name": "Python 3",
   "language": "python",
   "name": "python3"
  },
  "language_info": {
   "codemirror_mode": {
    "name": "ipython",
    "version": 3
   },
   "file_extension": ".py",
   "mimetype": "text/x-python",
   "name": "python",
   "nbconvert_exporter": "python",
   "pygments_lexer": "ipython3",
   "version": "3.8.8"
  }
 },
 "nbformat": 4,
 "nbformat_minor": 5
}
